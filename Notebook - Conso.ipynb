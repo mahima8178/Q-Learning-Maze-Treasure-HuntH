{
 "cells": [
  {
   "cell_type": "markdown",
   "metadata": {},
   "source": [
    "Maze Environment, solving policies, AI and Policy comparison metrics\n",
    "_______________________________________________________________________________________________________________________________\n",
    "This notebook contains maze environment generator, as well as metrics to compare efficiency of policies(number of steps needed to achieve goal state, mean of nosntags on succesful trials), allowing the user to see the difference between pre-written(scripted) plans, policies, random policies , probability policies, Dijkstra shortest path algorithm, and deep q learning."
   ]
  },
  {
   "cell_type": "code",
   "execution_count": 1,
   "metadata": {},
   "outputs": [],
   "source": [
    "import numpy as np\n",
    "import matplotlib.pyplot as plt\n",
    "import matplotlib.animation as animation\n",
    "import seaborn as sns\n",
    "import random\n",
    "import time\n",
    "import math\n",
    "\n",
    "from IPython.display import clear_output"
   ]
  },
  {
   "cell_type": "code",
   "execution_count": 2,
   "metadata": {},
   "outputs": [
    {
     "ename": "ModuleNotFoundError",
     "evalue": "No module named 'tensorflow'",
     "output_type": "error",
     "traceback": [
      "\u001b[1;31m---------------------------------------------------------------------------\u001b[0m",
      "\u001b[1;31mModuleNotFoundError\u001b[0m                       Traceback (most recent call last)",
      "\u001b[1;32m<ipython-input-2-50c035231884>\u001b[0m in \u001b[0;36m<module>\u001b[1;34m\u001b[0m\n\u001b[0;32m      2\u001b[0m \u001b[1;32mimport\u001b[0m \u001b[0mos\u001b[0m\u001b[1;33m,\u001b[0m \u001b[0msys\u001b[0m\u001b[1;33m,\u001b[0m \u001b[0mtime\u001b[0m\u001b[1;33m,\u001b[0m \u001b[0mdatetime\u001b[0m\u001b[1;33m,\u001b[0m \u001b[0mjson\u001b[0m\u001b[1;33m,\u001b[0m \u001b[0mrandom\u001b[0m\u001b[1;33m\u001b[0m\u001b[1;33m\u001b[0m\u001b[0m\n\u001b[0;32m      3\u001b[0m \u001b[1;32mimport\u001b[0m \u001b[0mnumpy\u001b[0m \u001b[1;32mas\u001b[0m \u001b[0mnp\u001b[0m\u001b[1;33m\u001b[0m\u001b[1;33m\u001b[0m\u001b[0m\n\u001b[1;32m----> 4\u001b[1;33m \u001b[1;32mfrom\u001b[0m \u001b[0mtensorflow\u001b[0m\u001b[1;33m.\u001b[0m\u001b[0mkeras\u001b[0m\u001b[1;33m.\u001b[0m\u001b[0mmodels\u001b[0m \u001b[1;32mimport\u001b[0m \u001b[0mSequential\u001b[0m\u001b[1;33m\u001b[0m\u001b[1;33m\u001b[0m\u001b[0m\n\u001b[0m\u001b[0;32m      5\u001b[0m \u001b[1;32mfrom\u001b[0m \u001b[0mtensorflow\u001b[0m\u001b[1;33m.\u001b[0m\u001b[0mkeras\u001b[0m\u001b[1;33m.\u001b[0m\u001b[0mlayers\u001b[0m \u001b[1;32mimport\u001b[0m \u001b[0mDense\u001b[0m\u001b[1;33m,\u001b[0m \u001b[0mActivation\u001b[0m\u001b[1;33m,\u001b[0m \u001b[0mDropout\u001b[0m\u001b[1;33m,\u001b[0m \u001b[0mConv2D\u001b[0m\u001b[1;33m,\u001b[0m \u001b[0mMaxPool2D\u001b[0m\u001b[1;33m,\u001b[0m \u001b[0mFlatten\u001b[0m\u001b[1;33m\u001b[0m\u001b[1;33m\u001b[0m\u001b[0m\n\u001b[0;32m      6\u001b[0m \u001b[1;32mfrom\u001b[0m \u001b[0mtensorflow\u001b[0m\u001b[1;33m.\u001b[0m\u001b[0mkeras\u001b[0m\u001b[1;33m.\u001b[0m\u001b[0moptimizers\u001b[0m \u001b[1;32mimport\u001b[0m \u001b[0mSGD\u001b[0m \u001b[1;33m,\u001b[0m \u001b[0mAdam\u001b[0m\u001b[1;33m,\u001b[0m \u001b[0mRMSprop\u001b[0m\u001b[1;33m\u001b[0m\u001b[1;33m\u001b[0m\u001b[0m\n",
      "\u001b[1;31mModuleNotFoundError\u001b[0m: No module named 'tensorflow'"
     ]
    }
   ],
   "source": [
    "from __future__ import print_function\n",
    "import os, sys, time, datetime, json, random\n",
    "import numpy as np\n",
    "from tensorflow.keras.models import Sequential\n",
    "from tensorflow.keras.layers import Dense, Activation, Dropout, Conv2D, MaxPool2D, Flatten\n",
    "from tensorflow.keras.optimizers import SGD , Adam, RMSprop\n",
    "#from callbacks import ModifiedTensorBoard#             edit Tensorflow class TensorBoard\n",
    "from collections import deque"
   ]
  },
  {
   "cell_type": "code",
   "execution_count": 4,
   "metadata": {},
   "outputs": [],
   "source": [
    "REPLAY_MEMORY_SIZE = 1000"
   ]
  },
  {
   "cell_type": "code",
   "execution_count": 5,
   "metadata": {},
   "outputs": [],
   "source": [
    "class Experience(object):\n",
    "    def __init__(self, model, max_memory=100, discount=0.95):\n",
    "        self.model = model\n",
    "        self.max_memory = max_memory\n",
    "        self.discount = discount\n",
    "        self.memory = list()\n",
    "        self.num_actions = model.output_shape[-1]\n",
    "\n",
    "    def remember(self, episode):\n",
    "        # episode = [envstate, action, reward, envstate_next, game_over]\n",
    "        # memory[i] = episode\n",
    "        # envstate == flattened 1d maze cells info, including rat cell (see method: observe)\n",
    "        self.memory.append(episode)\n",
    "        if len(self.memory) > self.max_memory:\n",
    "            del self.memory[0]\n",
    "\n",
    "    def predict(self, envstate):\n",
    "        return self.model.predict(envstate)[0]\n",
    "\n",
    "    def get_data(self, data_size=10):\n",
    "        env_size = self.memory[0][0].shape[1]   # envstate 1d size (1st element of episode)\n",
    "        mem_size = len(self.memory)\n",
    "        data_size = min(mem_size, data_size)\n",
    "        inputs = np.zeros((data_size, env_size))\n",
    "        targets = np.zeros((data_size, self.num_actions))\n",
    "        for i, j in enumerate(np.random.choice(range(mem_size), data_size, replace=False)):\n",
    "            envstate, action, reward, envstate_next, game_over = self.memory[j]\n",
    "            inputs[i] = envstate\n",
    "            # There should be no target values for actions not taken.\n",
    "            targets[i] = self.predict(envstate)\n",
    "            # Q_sa = derived policy = max quality env/action = max_a' Q(s', a')\n",
    "            Q_sa = np.max(self.predict(envstate_next))\n",
    "            if game_over:\n",
    "                targets[i, action] = reward\n",
    "            else:\n",
    "                # reward + gamma * max_a' Q(s', a')\n",
    "                targets[i, action] = reward + self.discount * Q_sa\n",
    "        return inputs, targets"
   ]
  },
  {
   "cell_type": "code",
   "execution_count": 6,
   "metadata": {},
   "outputs": [],
   "source": [
    "def build_model(maze, lr=0.001):\n",
    "    model = Sequential()\n",
    "    model.add(Dense(maze.size, input_shape=(maze.size,)))\n",
    "    model.add(PReLU())\n",
    "    model.add(Dense(maze.size))\n",
    "    model.add(PReLU())\n",
    "    model.add(Dense(num_actions))\n",
    "    model.compile(optimizer='adam', loss='mse')\n",
    "    return model"
   ]
  },
  {
   "cell_type": "code",
   "execution_count": 7,
   "metadata": {},
   "outputs": [],
   "source": [
    "def qtrain(model, maze, **opt):\n",
    "    global epsilon\n",
    "    n_epoch = opt.get('n_epoch', 15000)\n",
    "    max_memory = opt.get('max_memory', 1000)\n",
    "    data_size = opt.get('data_size', 50)\n",
    "    weights_file = opt.get('weights_file', \"\")\n",
    "    name = opt.get('name', 'model')\n",
    "    start_time = datetime.datetime.now()\n",
    "\n",
    "    # If you want to continue training from a previous model,\n",
    "    # just supply the h5 file name to weights_file option\n",
    "    if weights_file:\n",
    "        print(\"loading weights from file: %s\" % (weights_file,))\n",
    "        model.load_weights(weights_file)\n",
    "\n",
    "    # Construct environment/game from numpy array: maze (see above)\n",
    "    qmaze = Qmaze(maze)\n",
    "\n",
    "    # Initialize experience replay object\n",
    "    experience = Experience(model, max_memory=max_memory)\n",
    "\n",
    "    win_history = []   # history of win/lose game\n",
    "    n_free_cells = len(qmaze.free_cells)\n",
    "    hsize = qmaze.maze.size//2   # history window size\n",
    "    win_rate = 0.0\n",
    "    imctr = 1\n",
    "\n",
    "    for epoch in range(n_epoch):\n",
    "        loss = 0.0\n",
    "        rat_cell = random.choice(qmaze.free_cells)\n",
    "        qmaze.reset(rat_cell)\n",
    "        game_over = False\n",
    "\n",
    "        # get initial envstate (1d flattened canvas)\n",
    "        envstate = qmaze.observe()\n",
    "\n",
    "        n_episodes = 0\n",
    "        while not game_over:\n",
    "            valid_actions = qmaze.valid_actions()\n",
    "            if not valid_actions: break\n",
    "            prev_envstate = envstate\n",
    "            # Get next action\n",
    "            if np.random.rand() < epsilon:\n",
    "                action = random.choice(valid_actions)\n",
    "            else:\n",
    "                action = np.argmax(experience.predict(prev_envstate))\n",
    "\n",
    "            # Apply action, get reward and new envstate\n",
    "            envstate, reward, game_status = qmaze.act(action)\n",
    "            if game_status == 'win':\n",
    "                win_history.append(1)\n",
    "                game_over = True\n",
    "            elif game_status == 'lose':\n",
    "                win_history.append(0)\n",
    "                game_over = True\n",
    "            else:\n",
    "                game_over = False\n",
    "\n",
    "            # Store episode (experience)\n",
    "            episode = [prev_envstate, action, reward, envstate, game_over]\n",
    "            experience.remember(episode)\n",
    "            n_episodes += 1\n",
    "\n",
    "            # Train neural network model\n",
    "            inputs, targets = experience.get_data(data_size=data_size)\n",
    "            h = model.fit(\n",
    "                inputs,\n",
    "                targets,\n",
    "                epochs=8,\n",
    "                batch_size=16,\n",
    "                verbose=0,\n",
    "            )\n",
    "            loss = model.evaluate(inputs, targets, verbose=0)\n",
    "\n",
    "        if len(win_history) > hsize:\n",
    "            win_rate = sum(win_history[-hsize:]) / hsize\n",
    "    \n",
    "        dt = datetime.datetime.now() - start_time\n",
    "        t = format_time(dt.total_seconds())\n",
    "        template = \"Epoch: {:03d}/{:d} | Loss: {:.4f} | Episodes: {:d} | Win count: {:d} | Win rate: {:.3f} | time: {}\"\n",
    "        print(template.format(epoch, n_epoch-1, loss, n_episodes, sum(win_history), win_rate, t))\n",
    "        # we simply check if training has exhausted all free cells and if in all\n",
    "        # cases the agent won\n",
    "        if win_rate > 0.9 : epsilon = 0.05\n",
    "        if sum(win_history[-hsize:]) == hsize and completion_check(model, qmaze):\n",
    "            print(\"Reached 100%% win rate at epoch: %d\" % (epoch,))\n",
    "            break\n",
    "\n",
    "    # Save trained model weights and architecture, this will be used by the visualization code\n",
    "    h5file = name + \".h5\"\n",
    "    json_file = name + \".json\"\n",
    "    model.save_weights(h5file, overwrite=True)\n",
    "    with open(json_file, \"w\") as outfile:\n",
    "        json.dump(model.to_json(), outfile)\n",
    "    end_time = datetime.datetime.now()\n",
    "    dt = datetime.datetime.now() - start_time\n",
    "    seconds = dt.total_seconds()\n",
    "    t = format_time(seconds)\n",
    "    print('files: %s, %s' % (h5file, json_file))\n",
    "    print(\"n_epoch: %d, max_mem: %d, data: %d, time: %s\" % (epoch, max_memory, data_size, t))\n",
    "    return seconds\n",
    "\n",
    "# This is a small utility for printing readable time strings:\n",
    "def format_time(seconds):\n",
    "    if seconds < 400:\n",
    "        s = float(seconds)\n",
    "        return \"%.1f seconds\" % (s,)\n",
    "    elif seconds < 4000:\n",
    "        m = seconds / 60.0\n",
    "        return \"%.2f minutes\" % (m,)\n",
    "    else:\n",
    "        h = seconds / 3600.0\n",
    "        return \"%.2f hours\" % (h,)"
   ]
  },
  {
   "cell_type": "code",
   "execution_count": 8,
   "metadata": {},
   "outputs": [],
   "source": [
    "%matplotlib inline"
   ]
  },
  {
   "cell_type": "code",
   "execution_count": 9,
   "metadata": {},
   "outputs": [],
   "source": [
    "#Policy1 for agent movement\n",
    "def decision_maker():\n",
    "    if (random.randint(1,10)) > 3:\n",
    "        if random.randint(1,10) >5:\n",
    "            return 1\n",
    "        else:\n",
    "            return 3\n",
    "    else:\n",
    "        if random.randint(1,10) >5:\n",
    "            return 2\n",
    "        else:\n",
    "            return 4\n",
    "    "
   ]
  },
  {
   "cell_type": "code",
   "execution_count": 10,
   "metadata": {},
   "outputs": [],
   "source": [
    "#Policy2 for agent movement\n",
    "def decision_maker_smarter(p0,p1,p2,p3):\n",
    "    if p0 != 1 and p2 !=1:\n",
    "        if random.randint(1,10) >5:\n",
    "            return 1\n",
    "        else:\n",
    "            return 3\n",
    "    if p0 != 1 or p2 !=1:\n",
    "        if random.randint(1,10) >3:\n",
    "            if random.randint(1,10) >5:\n",
    "                return 1\n",
    "            else:\n",
    "                return 3\n",
    "        else:\n",
    "            if random.randint(1,10) >5:\n",
    "                return 2\n",
    "            else:\n",
    "                return 4\n",
    "        \n",
    "    else:\n",
    "        if random.randint(1,10) >5:\n",
    "            return 2\n",
    "        else:\n",
    "            return 4\n",
    "    "
   ]
  },
  {
   "cell_type": "code",
   "execution_count": 11,
   "metadata": {},
   "outputs": [],
   "source": [
    "#Policy2 for agent movement(that expects agent to start at the bottom right of the map)\n",
    "def decision_maker_smarter_inverse(p0,p1,p2,p3):\n",
    "    if p1 != 1 and p2 !=1:\n",
    "        if random.randint(1,10) >5:\n",
    "            return 2\n",
    "        else:\n",
    "            return 4\n",
    "    if p1 != 1 or p3 !=1:\n",
    "        if random.randint(1,10) >3:\n",
    "            if random.randint(1,10) >5:\n",
    "                return 2\n",
    "            else:\n",
    "                return 4\n",
    "        else:\n",
    "            if random.randint(1,10) >5:\n",
    "                return 1\n",
    "            else:\n",
    "                return 3\n",
    "        \n",
    "    else:\n",
    "        if random.randint(1,10) >5:\n",
    "            return 1\n",
    "        else:\n",
    "            return 3"
   ]
  },
  {
   "cell_type": "code",
   "execution_count": 12,
   "metadata": {},
   "outputs": [],
   "source": [
    "#Conditions for randomized map drawing\n",
    "def conditioner(i,j,arr):\n",
    "    rules = [arr[i+1][j] == 1 and arr[i-1][j] == 1 and arr[i][j-1] == 1,\n",
    "            arr[i][j-1] == 1 and arr[i][j+1] and arr[i+1][j] == 1 ]\n",
    "    return rules"
   ]
  },
  {
   "cell_type": "code",
   "execution_count": 13,
   "metadata": {},
   "outputs": [],
   "source": [
    "class Agent():\n",
    "    def __init__(self, location):\n",
    "        self.location = location\n",
    "        \n",
    "    def move(self, x):\n",
    "        if x == 1:\n",
    "            self.location[0] = self.location[0] + 1\n",
    "        if x == 2:\n",
    "            self.location[0] = self.location[0] - 1\n",
    "        if x == 3: \n",
    "            self.location[1] = self.location[1] + 1\n",
    "        if x == 4:\n",
    "            self.location[1] = self.location[1] - 1\n",
    "            "
   ]
  },
  {
   "cell_type": "code",
   "execution_count": null,
   "metadata": {},
   "outputs": [],
   "source": []
  },
  {
   "cell_type": "code",
   "execution_count": 14,
   "metadata": {},
   "outputs": [],
   "source": [
    "class Environment():\n",
    "    def __init__(self, size, steps, animated,display, open_map):\n",
    "        \n",
    "        #size: Map that will be generated is always square type, expects integer.\n",
    "        \n",
    "        #steps: Number of actions that agent is allowed to take , expects integer.\n",
    "        \n",
    "        #animated: Determines wether or not actions of the agent will be animated, expects boolean. note: If False, image output\n",
    "        #will be that of the final state (upon reaching maximum number of steps)\n",
    "        \n",
    "        #display: Determines wether or not actions of the agent will be displayed at all, expects boolean.\n",
    "        \n",
    "        #open map: empty map(no walls) if True or generated map if False.\n",
    "        \n",
    "        self.open_map = open_map\n",
    "        movement_plan = [1,2,1,2,2,2,1,1,2,1,2,1,2,1,2,1,2,1,2,1,2,1,3,4,2,1,2,2,1]\n",
    "        self.size = size\n",
    "        self.steps = steps\n",
    "        #q-learning\n",
    "        self.living_penalty = -0.1\n",
    "        self.gamma = 0.5\n",
    "        self.perception_field_rewards = [None,None,None,None]\n",
    "        #Perception vectors (see method \"perception\" for better description)\n",
    "        self.perception_field = [None,None,None,None]\n",
    "        self.perception_field2 = [None,None,None,None]\n",
    "        \n",
    "        #Create a map and set up the agents, then run the plan/policy.\n",
    "        self.map = np.random.randint(0,2, (size,size))\n",
    "        self.recorded = []\n",
    "        self.display = display\n",
    "#       self.map[30,30] = 4\n",
    "        self.map_maker()\n",
    "        self.agent = Agent([4,4])\n",
    "        self.agent2 = Agent([len(self.map)-4,len(self.map)-4])\n",
    "        self.map[self.agent.location[0], self.agent.location[1] ] = 3\n",
    "        self.map[self.agent2.location[0], self.agent2.location[1] ] = 4\n",
    "        self.run_plan(movement_plan, animated)\n",
    "        \n",
    "        \n",
    "\n",
    "        \n",
    "    \n",
    "    def map_maker(self):\n",
    "        #Generate randomized map\n",
    "        # *See function: \"conditioner\"\n",
    "        for i in range(len(self.map)):\n",
    "            for j in range(len(self.map)):\n",
    "                if i > 1 and j > 1 and i<len(self.map)-1  and j<len(self.map)-1:\n",
    "                    if any(conditioner(i,j,self.map)):\n",
    "                        self.map[i+1,j] = 0\n",
    "                        if random.randint(0,10) > 5:\n",
    "                            self.map[i][j+1] = 0\n",
    "                        if random.randint(0,10) > 5:\n",
    "                            self.map[i-1][j] = 0\n",
    "                        self.map[i-1][j] = 0\n",
    "      \n",
    "        if self.open_map == True:\n",
    "            self.map = np.zeros([self.size,self.size])\n",
    "        self.map[0:(len(self.map)-1), 0] = 1\n",
    "        self.map[0, 0:(len(self.map)-1)] = 1\n",
    "        self.map[0:(len(self.map)-1), (len(self.map)-1)] = 1\n",
    "        self.map[(len(self.map)-1),0:(len(self.map)-1)] = 1  \n",
    "        \n",
    "        \n",
    "    def refresh(self, agent_input, agent2_input):\n",
    "        \n",
    "       # Refresh the map state if agent chooses a legal action\n",
    "    \n",
    "       # First agent \n",
    "        if agent_input == 1 and self.perception_field[0] != 1 :\n",
    "            self.map[self.agent.location[0], self.agent.location[1]] = -1\n",
    "            self.agent.move(1)\n",
    "            self.map[self.agent.location[0], self.agent.location[1]] = 3\n",
    "        if agent_input == 2 and self.perception_field[1] != 1:\n",
    "            self.map[self.agent.location[0], self.agent.location[1]] = -1\n",
    "            self.agent.move(2)\n",
    "            self.map[self.agent.location[0], self.agent.location[1]] = 3\n",
    "        if agent_input == 3 and self.perception_field[2] != 1 :\n",
    "            self.map[self.agent.location[0], self.agent.location[1]] = -1\n",
    "            self.agent.move(3)\n",
    "            self.map[self.agent.location[0], self.agent.location[1]] = 3\n",
    "        if agent_input == 4 and self.perception_field[3] != 1 :\n",
    "            self.map[self.agent.location[0], self.agent.location[1]] = -1\n",
    "            self.agent.move(4)\n",
    "            self.map[self.agent.location[0], self.agent.location[1]] = 3\n",
    "            \n",
    "        #Second agent    \n",
    "        if agent2_input == 1 and self.perception_field2[0] != 1 :\n",
    "            self.map[self.agent2.location[0], self.agent2.location[1]] = -2\n",
    "            self.agent2.move(1)\n",
    "            self.map[self.agent2.location[0], self.agent2.location[1]] = 4\n",
    "        if agent2_input == 2 and self.perception_field2[1] != 1:\n",
    "            self.map[self.agent2.location[0], self.agent2.location[1]] = -2\n",
    "            self.agent2.move(2)\n",
    "            self.map[self.agent2.location[0], self.agent2.location[1]] = 4\n",
    "        if agent2_input == 3 and self.perception_field2[2] != 1 :\n",
    "            self.map[self.agent2.location[0], self.agent2.location[1]] = -2\n",
    "            self.agent2.move(3)\n",
    "            self.map[self.agent2.location[0], self.agent2.location[1]] = 4\n",
    "        if agent2_input == 4 and self.perception_field2[3] != 1 :\n",
    "            self.map[self.agent2.location[0], self.agent2.location[1]] = -2\n",
    "            self.agent2.move(4)\n",
    "            self.map[self.agent2.location[0], self.agent2.location[1]] = 4\n",
    "        \n",
    "    def run_plan(self, plan, animated):\n",
    "        \n",
    "        #Run the plan/policy for agent movement, then display the distance of each agent from it's goal\n",
    "        #Plan expects vectors of consecutive actions, although policies are used in all examples.\n",
    "        for i in range(0,self.steps):#plan:\n",
    "            \n",
    "            \n",
    "            self.perception2()\n",
    "            self.perception()\n",
    "            #self.refresh(decision_maker_smarter(self.perception_field[0],self.perception_field[1],self.perception_field[2],self.perception_field[3]),decision_maker_smarter_inverse(self.perception_field2[0],self.perception_field2[1],self.perception_field2[2],self.perception_field2[3]))\n",
    "            #self.refresh(decision_maker_smarter(self.perception_field[0],self.perception_field[1],self.perception_field[2],self.perception_field[3]),decision_maker_smarter_inverse(self.perception_field2[0],self.perception_field2[1],self.perception_field2[2],self.perception_field2[3]))     \n",
    "            self.refresh(decision_maker(),decision_maker_smarter_inverse(self.perception_field2[0],self.perception_field2[1],self.perception_field2[2],self.perception_field2[3]))        \n",
    "            self.recorded.append(self.map)\n",
    "                \n",
    "            if animated == True:\n",
    "                plt.imshow(self.map, cmap=\"rainbow\", animated = False)\n",
    "                plt.show()\n",
    "                time.sleep(0.05)\n",
    "                clear_output(wait=True)\n",
    "            \n",
    "            #for instant final state\n",
    "        if self.display == True:\n",
    "            \n",
    "            plt.imshow(self.map, cmap=\"rainbow\", animated = False)\n",
    "            plt.show()\n",
    "            print(\"Blue,Purple\")\n",
    "            print(self.distance([len(self.map)-1,len(self.map)-1],[0,0]))\n",
    "                  \n",
    "    def output_state(self):\n",
    "        \n",
    "        return [self.agent.location[0],self.agent.location[1],self.perception_field[0],self.perception_field[1],self.perception_field[2],self.perception_field[3], self.distance([30,30])]\n",
    "    # x,y,distance from goal,cross_perception\n",
    "        \n",
    "    def perception(self):\n",
    "        \n",
    "        \n",
    "        #Refreshes the values in the perception vector of the first agent(starts at top left)\n",
    "        \n",
    "        #Sets the perception_field vector values to those that match the new state of the agent. Perception_field array contains\n",
    "        #the values of neighbouring points(relative to the position of the agent) , these are used to determine if the action\n",
    "        #that happens to be chosen by the agent is legal(there is no wall). If conditions are met, action will affect the next state of the environment.\n",
    "        \n",
    "        self.perception_field[0] = self.map[self.agent.location[0]+1, self.agent.location[1]]\n",
    "        \n",
    "        self.perception_field[1] = self.map[self.agent.location[0]-1, self.agent.location[1]]\n",
    "        \n",
    "        self.perception_field[2] = self.map[self.agent.location[0], self.agent.location[1]+1]\n",
    "        \n",
    "        self.perception_field[3] = self.map[self.agent.location[0], self.agent.location[1]-1]\n",
    "        \n",
    "    def perception_rewards(self, reward_map):\n",
    "        \n",
    "        # Perception vector of the reward map\n",
    "        \n",
    "        self.perception_field_rewards[0] = reward_map[self.agent.location[0]+1, self.agent.location[1]]\n",
    "        \n",
    "        self.perception_field_rewards[1] = reward_map[self.agent.location[0]-1, self.agent.location[1]]\n",
    "        \n",
    "        self.perception_field_rewards[2] = reward_map[self.agent.location[0], self.agent.location[1]+1]\n",
    "        \n",
    "        self.perception_field_rewards[3] = reward_map[self.agent.location[0], self.agent.location[1]-1]\n",
    "        \n",
    "    def perception2(self):\n",
    "        \n",
    "        #Refreshes the values in the perception vector of the second agent(starts at bottom right)\n",
    "        \n",
    "        #Sets the perception_field vector values to those that match the new state of the agent. Perception_field array contains\n",
    "        #the values of neighbouring points(relative to the position of the agent) , these are used to determine if the action\n",
    "        #that happens to be chosen by the agent is legal. If conditions are met, action will affect the next state of the environment.\n",
    "        \n",
    "        self.perception_field2[0] = self.map[self.agent2.location[0]+1, self.agent2.location[1]]\n",
    "        \n",
    "        self.perception_field2[1] = self.map[self.agent2.location[0]-1, self.agent2.location[1]]\n",
    "        \n",
    "        self.perception_field2[2] = self.map[self.agent2.location[0], self.agent2.location[1]+1]\n",
    "        \n",
    "        self.perception_field2[3] = self.map[self.agent2.location[0], self.agent2.location[1]-1]\n",
    "    \n",
    "    def distance(self,goal,goal2):\n",
    "        #goal is [x,y]\n",
    "        #self.map[goal] = 4\n",
    "        return ((goal[0] - self.agent.location[0]) + (goal[1]- self.agent.location[1] ), abs((goal2[0] - self.agent2.location[0]) + (goal2[1]- self.agent2.location[1] )))\n",
    "    \n",
    "    def distance_rewards(self,goal,i):\n",
    "        \n",
    "        #goal is [x,y]\n",
    "        #self.map[goal] = 4\n",
    "        if i == 0:\n",
    "            return ((goal[0] - (1+self.agent.location[0])) + (goal[1]- self.agent.location[1] ))\n",
    "        if i == 1:\n",
    "            return ((goal[0] - (self.agent.location[0]-1)) + (goal[1]- self.agent.location[1] ))\n",
    "        if i == 2:\n",
    "            return ((goal[0] - (self.agent.location[0])) + (goal[1]- self.agent.location[1]+1 ))\n",
    "        if i == 3:\n",
    "            return ((goal[0] - (self.agent.location[0])) + (goal[1]- self.agent.location[1]-1 ))\n",
    "    \n",
    "    def reward_states_map(self, goal, living_penalty, gamma_discount):\n",
    "        # goal expects [-y,x]\n",
    "        # Generate reward map for all possible states, essentialy this is a q-table.\n",
    "        \n",
    "        arr = np.zeros([len(self.map),len(self.map)])\n",
    "        for i in range(len(self.map)):\n",
    "            for j in range(len(self.map)):\n",
    "                \n",
    "                # if cell is already visited\n",
    "                if self.map[i][j] == -1:\n",
    "                    arr[i][j] = (-0.6 + (living_penalty))\n",
    "                \n",
    "                # if cell is blocked\n",
    "                if self.map[i][j] == 1:\n",
    "                    arr[i][j] = (-0.9 + (living_penalty))\n",
    "                    \n",
    "                # if agent reached the goal state\n",
    "                if self.map[goal[0],goal[1]] == 3:\n",
    "                    arr[i][j] = (1)\n",
    "                    \n",
    "                arr[i][j] = arr[i][j] - ((self.distance_rewards([i,j]))/(math.sqrt(self.size**2 + self.size**2))) *gamma_discount\n",
    "                \n",
    "        return arr\n",
    "                \n",
    "            \n",
    "    def reward_calculator(self):\n",
    "        \n",
    "        # Calculate the value of a certain state based on the conditions provided.\n",
    "        arr = [0,0,0,0]\n",
    "        for i in range(len(self.perception_field)):\n",
    "            \n",
    "            # if cell is already visited\n",
    "            if self.perception_field[i] == -1:\n",
    "                arr[i] = (-4 + (self.living_penalty))\n",
    "                \n",
    "            # if cell is blocked\n",
    "            if self.perception_field[i] == 1:\n",
    "                arr[i] = (-6 + (self.living_penalty))\n",
    "                    \n",
    "                # if agent reached the goal state\n",
    "                #if self.map[goal[0],goal[1]] == 3:\n",
    "                #    arr[i] = (1)\n",
    "                \n",
    "            \n",
    "            \n",
    "            \n",
    "            arr[i] = arr[i] + ((self.distance_rewards([40,40],i))//(math.sqrt(self.size**2 + self.size**2))) *self.gamma + (self.living_penalty)\n",
    "        return arr"
   ]
  },
  {
   "cell_type": "code",
   "execution_count": 17,
   "metadata": {},
   "outputs": [
    {
     "data": {
      "image/png": "[encoded data removed]",
      "text/plain": [
       "<Figure size 432x288 with 1 Axes>"
      ]
     },
     "metadata": {
      "needs_background": "light"
     },
     "output_type": "display_data"
    },
    {
     "name": "stdout",
     "output_type": "stream",
     "text": [
      "Blue,Purple\n",
      "(67, 65)\n"
     ]
    }
   ],
   "source": [
    "env = Environment(size=45, steps=55, animated=True, display=True, open_map=False)\n"
   ]
  },
  {
   "cell_type": "code",
   "execution_count": 15,
   "metadata": {},
   "outputs": [],
   "source": [
    "import pandas as pd"
   ]
  },
  {
   "cell_type": "code",
   "execution_count": 16,
   "metadata": {},
   "outputs": [],
   "source": [
    "#Creates a sample of maze runs on randomized maps, used to compare efficiency of  policies/plans.\n",
    "def sample(envsize, sample_size,animated1,display1, openmap):\n",
    "    sample_data = np.zeros(((sample_size),3))\n",
    "    for i in range(len(sample_data)):\n",
    "        stepsize= random.randint(envsize+0.2*envsize,envsize*20)\n",
    "        env = Environment(envsize,stepsize,animated=animated1, display=display1, open_map=openmap)\n",
    "        #sample_data[i] = [stepsize, sum(env.distance([len(env.map)-1,len(env.map)-1],[0,0]))]\n",
    "        sample_data[i] = [stepsize, env.distance([len(env.map)-1,len(env.map)-1],[0,0])[0],env.distance([len(env.map)-1,len(env.map)-1],[0,0])[1]]                                        \n",
    "    return pd.DataFrame(sample_data)"
   ]
  },
  {
   "cell_type": "code",
   "execution_count": 17,
   "metadata": {},
   "outputs": [
    {
     "data": {
      "image/png": "[encoded data removed]",
      "text/plain": [
       "<Figure size 432x288 with 1 Axes>"
      ]
     },
     "metadata": {
      "needs_background": "light"
     },
     "output_type": "display_data"
    },
    {
     "name": "stdout",
     "output_type": "stream",
     "text": [
      "Blue,Purple\n",
      "(50, 4)\n"
     ]
    },
    {
     "data": {
      "image/png": "[encoded data removed]",
      "text/plain": [
       "<Figure size 432x288 with 1 Axes>"
      ]
     },
     "metadata": {
      "needs_background": "light"
     },
     "output_type": "display_data"
    },
    {
     "name": "stdout",
     "output_type": "stream",
     "text": [
      "Blue,Purple\n",
      "(45, 77)\n"
     ]
    },
    {
     "data": {
      "image/png": "[encoded data removed]",
      "text/plain": [
       "<Figure size 432x288 with 1 Axes>"
      ]
     },
     "metadata": {
      "needs_background": "light"
     },
     "output_type": "display_data"
    },
    {
     "name": "stdout",
     "output_type": "stream",
     "text": [
      "Blue,Purple\n",
      "(6, 6)\n"
     ]
    },
    {
     "data": {
      "image/png": "[encoded data removed]",
      "text/plain": [
       "<Figure size 432x288 with 1 Axes>"
      ]
     },
     "metadata": {
      "needs_background": "light"
     },
     "output_type": "display_data"
    },
    {
     "name": "stdout",
     "output_type": "stream",
     "text": [
      "Blue,Purple\n",
      "(4, 12)\n"
     ]
    },
    {
     "data": {
      "image/png": "[encoded data removed]",
      "text/plain": [
       "<Figure size 432x288 with 1 Axes>"
      ]
     },
     "metadata": {
      "needs_background": "light"
     },
     "output_type": "display_data"
    },
    {
     "name": "stdout",
     "output_type": "stream",
     "text": [
      "Blue,Purple\n",
      "(14, 8)\n"
     ]
    },
    {
     "data": {
      "image/png": "[encoded data removed]",
      "text/plain": [
       "<Figure size 432x288 with 1 Axes>"
      ]
     },
     "metadata": {
      "needs_background": "light"
     },
     "output_type": "display_data"
    },
    {
     "name": "stdout",
     "output_type": "stream",
     "text": [
      "Blue,Purple\n",
      "(14, 31)\n"
     ]
    },
    {
     "data": {
      "image/png": "[encoded data removed]",
      "text/plain": [
       "<Figure size 432x288 with 1 Axes>"
      ]
     },
     "metadata": {
      "needs_background": "light"
     },
     "output_type": "display_data"
    },
    {
     "name": "stdout",
     "output_type": "stream",
     "text": [
      "Blue,Purple\n",
      "(5, 82)\n"
     ]
    },
    {
     "data": {
      "image/png": "[encoded data removed]",
      "text/plain": [
       "<Figure size 432x288 with 1 Axes>"
      ]
     },
     "metadata": {
      "needs_background": "light"
     },
     "output_type": "display_data"
    },
    {
     "name": "stdout",
     "output_type": "stream",
     "text": [
      "Blue,Purple\n",
      "(6, 69)\n"
     ]
    },
    {
     "data": {
      "image/png": "[encoded data removed]",
      "text/plain": [
       "<Figure size 432x288 with 1 Axes>"
      ]
     },
     "metadata": {
      "needs_background": "light"
     },
     "output_type": "display_data"
    },
    {
     "name": "stdout",
     "output_type": "stream",
     "text": [
      "Blue,Purple\n",
      "(75, 42)\n"
     ]
    },
    {
     "data": {
      "image/png": "[encoded data removed]",
      "text/plain": [
       "<Figure size 432x288 with 1 Axes>"
      ]
     },
     "metadata": {
      "needs_background": "light"
     },
     "output_type": "display_data"
    },
    {
     "name": "stdout",
     "output_type": "stream",
     "text": [
      "Blue,Purple\n",
      "(3, 6)\n"
     ]
    },
    {
     "data": {
      "image/png": "[encoded data removed]",
      "text/plain": [
       "<Figure size 432x288 with 1 Axes>"
      ]
     },
     "metadata": {
      "needs_background": "light"
     },
     "output_type": "display_data"
    },
    {
     "name": "stdout",
     "output_type": "stream",
     "text": [
      "Blue,Purple\n",
      "(6, 19)\n"
     ]
    },
    {
     "data": {
      "image/png": "[encoded data removed]",
      "text/plain": [
       "<Figure size 432x288 with 1 Axes>"
      ]
     },
     "metadata": {
      "needs_background": "light"
     },
     "output_type": "display_data"
    },
    {
     "name": "stdout",
     "output_type": "stream",
     "text": [
      "Blue,Purple\n",
      "(38, 8)\n"
     ]
    },
    {
     "data": {
      "image/png": "[encoded data removed]",
      "text/plain": [
       "<Figure size 432x288 with 1 Axes>"
      ]
     },
     "metadata": {
      "needs_background": "light"
     },
     "output_type": "display_data"
    },
    {
     "name": "stdout",
     "output_type": "stream",
     "text": [
      "Blue,Purple\n",
      "(49, 51)\n"
     ]
    },
    {
     "data": {
      "image/png": "[encoded data removed]",
      "text/plain": [
       "<Figure size 432x288 with 1 Axes>"
      ]
     },
     "metadata": {
      "needs_background": "light"
     },
     "output_type": "display_data"
    },
    {
     "name": "stdout",
     "output_type": "stream",
     "text": [
      "Blue,Purple\n",
      "(6, 13)\n"
     ]
    },
    {
     "data": {
      "image/png": "[encoded data removed]",
      "text/plain": [
       "<Figure size 432x288 with 1 Axes>"
      ]
     },
     "metadata": {
      "needs_background": "light"
     },
     "output_type": "display_data"
    },
    {
     "name": "stdout",
     "output_type": "stream",
     "text": [
      "Blue,Purple\n",
      "(20, 16)\n"
     ]
    },
    {
     "data": {
      "image/png": "[encoded data removed]",
      "text/plain": [
       "<Figure size 432x288 with 1 Axes>"
      ]
     },
     "metadata": {
      "needs_background": "light"
     },
     "output_type": "display_data"
    },
    {
     "name": "stdout",
     "output_type": "stream",
     "text": [
      "Blue,Purple\n",
      "(3, 59)\n"
     ]
    },
    {
     "data": {
      "image/png": "[encoded data removed]",
      "text/plain": [
       "<Figure size 432x288 with 1 Axes>"
      ]
     },
     "metadata": {
      "needs_background": "light"
     },
     "output_type": "display_data"
    },
    {
     "name": "stdout",
     "output_type": "stream",
     "text": [
      "Blue,Purple\n",
      "(24, 7)\n"
     ]
    },
    {
     "data": {
      "image/png": "[encoded data removed]",
      "text/plain": [
       "<Figure size 432x288 with 1 Axes>"
      ]
     },
     "metadata": {
      "needs_background": "light"
     },
     "output_type": "display_data"
    },
    {
     "name": "stdout",
     "output_type": "stream",
     "text": [
      "Blue,Purple\n",
      "(6, 36)\n"
     ]
    },
    {
     "data": {
      "image/png": "[encoded data removed]",
      "text/plain": [
       "<Figure size 432x288 with 1 Axes>"
      ]
     },
     "metadata": {
      "needs_background": "light"
     },
     "output_type": "display_data"
    },
    {
     "name": "stdout",
     "output_type": "stream",
     "text": [
      "Blue,Purple\n",
      "(67, 38)\n"
     ]
    },
    {
     "data": {
      "image/png": "[encoded data removed]",
      "text/plain": [
       "<Figure size 432x288 with 1 Axes>"
      ]
     },
     "metadata": {
      "needs_background": "light"
     },
     "output_type": "display_data"
    },
    {
     "name": "stdout",
     "output_type": "stream",
     "text": [
      "Blue,Purple\n",
      "(57, 17)\n"
     ]
    },
    {
     "data": {
      "image/png": "[encoded data removed]",
      "text/plain": [
       "<Figure size 432x288 with 1 Axes>"
      ]
     },
     "metadata": {
      "needs_background": "light"
     },
     "output_type": "display_data"
    },
    {
     "name": "stdout",
     "output_type": "stream",
     "text": [
      "Blue,Purple\n",
      "(26, 8)\n"
     ]
    },
    {
     "data": {
      "image/png": "[encoded data removed]",
      "text/plain": [
       "<Figure size 432x288 with 1 Axes>"
      ]
     },
     "metadata": {
      "needs_background": "light"
     },
     "output_type": "display_data"
    },
    {
     "name": "stdout",
     "output_type": "stream",
     "text": [
      "Blue,Purple\n",
      "(34, 82)\n"
     ]
    },
    {
     "data": {
      "text/html": [
       "<div>\n",
       "<style scoped>\n",
       "    .dataframe tbody tr th:only-of-type {\n",
       "        vertical-align: middle;\n",
       "    }\n",
       "\n",
       "    .dataframe tbody tr th {\n",
       "        vertical-align: top;\n",
       "    }\n",
       "\n",
       "    .dataframe thead th {\n",
       "        text-align: right;\n",
       "    }\n",
       "</style>\n",
       "<table border=\"1\" class=\"dataframe\">\n",
       "  <thead>\n",
       "    <tr style=\"text-align: right;\">\n",
       "      <th></th>\n",
       "      <th>0</th>\n",
       "      <th>1</th>\n",
       "      <th>2</th>\n",
       "    </tr>\n",
       "  </thead>\n",
       "  <tbody>\n",
       "    <tr>\n",
       "      <th>0</th>\n",
       "      <td>295.0</td>\n",
       "      <td>50.0</td>\n",
       "      <td>4.0</td>\n",
       "    </tr>\n",
       "    <tr>\n",
       "      <th>1</th>\n",
       "      <td>405.0</td>\n",
       "      <td>45.0</td>\n",
       "      <td>77.0</td>\n",
       "    </tr>\n",
       "    <tr>\n",
       "      <th>2</th>\n",
       "      <td>433.0</td>\n",
       "      <td>6.0</td>\n",
       "      <td>6.0</td>\n",
       "    </tr>\n",
       "    <tr>\n",
       "      <th>3</th>\n",
       "      <td>426.0</td>\n",
       "      <td>4.0</td>\n",
       "      <td>12.0</td>\n",
       "    </tr>\n",
       "    <tr>\n",
       "      <th>4</th>\n",
       "      <td>611.0</td>\n",
       "      <td>14.0</td>\n",
       "      <td>8.0</td>\n",
       "    </tr>\n",
       "    <tr>\n",
       "      <th>5</th>\n",
       "      <td>600.0</td>\n",
       "      <td>14.0</td>\n",
       "      <td>31.0</td>\n",
       "    </tr>\n",
       "    <tr>\n",
       "      <th>6</th>\n",
       "      <td>562.0</td>\n",
       "      <td>5.0</td>\n",
       "      <td>82.0</td>\n",
       "    </tr>\n",
       "    <tr>\n",
       "      <th>7</th>\n",
       "      <td>354.0</td>\n",
       "      <td>6.0</td>\n",
       "      <td>69.0</td>\n",
       "    </tr>\n",
       "    <tr>\n",
       "      <th>8</th>\n",
       "      <td>230.0</td>\n",
       "      <td>75.0</td>\n",
       "      <td>42.0</td>\n",
       "    </tr>\n",
       "    <tr>\n",
       "      <th>9</th>\n",
       "      <td>842.0</td>\n",
       "      <td>3.0</td>\n",
       "      <td>6.0</td>\n",
       "    </tr>\n",
       "    <tr>\n",
       "      <th>10</th>\n",
       "      <td>830.0</td>\n",
       "      <td>6.0</td>\n",
       "      <td>19.0</td>\n",
       "    </tr>\n",
       "    <tr>\n",
       "      <th>11</th>\n",
       "      <td>235.0</td>\n",
       "      <td>38.0</td>\n",
       "      <td>8.0</td>\n",
       "    </tr>\n",
       "    <tr>\n",
       "      <th>12</th>\n",
       "      <td>153.0</td>\n",
       "      <td>49.0</td>\n",
       "      <td>51.0</td>\n",
       "    </tr>\n",
       "    <tr>\n",
       "      <th>13</th>\n",
       "      <td>854.0</td>\n",
       "      <td>6.0</td>\n",
       "      <td>13.0</td>\n",
       "    </tr>\n",
       "    <tr>\n",
       "      <th>14</th>\n",
       "      <td>574.0</td>\n",
       "      <td>20.0</td>\n",
       "      <td>16.0</td>\n",
       "    </tr>\n",
       "    <tr>\n",
       "      <th>15</th>\n",
       "      <td>630.0</td>\n",
       "      <td>3.0</td>\n",
       "      <td>59.0</td>\n",
       "    </tr>\n",
       "    <tr>\n",
       "      <th>16</th>\n",
       "      <td>233.0</td>\n",
       "      <td>24.0</td>\n",
       "      <td>7.0</td>\n",
       "    </tr>\n",
       "    <tr>\n",
       "      <th>17</th>\n",
       "      <td>883.0</td>\n",
       "      <td>6.0</td>\n",
       "      <td>36.0</td>\n",
       "    </tr>\n",
       "    <tr>\n",
       "      <th>18</th>\n",
       "      <td>124.0</td>\n",
       "      <td>67.0</td>\n",
       "      <td>38.0</td>\n",
       "    </tr>\n",
       "    <tr>\n",
       "      <th>19</th>\n",
       "      <td>306.0</td>\n",
       "      <td>57.0</td>\n",
       "      <td>17.0</td>\n",
       "    </tr>\n",
       "    <tr>\n",
       "      <th>20</th>\n",
       "      <td>689.0</td>\n",
       "      <td>26.0</td>\n",
       "      <td>8.0</td>\n",
       "    </tr>\n",
       "    <tr>\n",
       "      <th>21</th>\n",
       "      <td>288.0</td>\n",
       "      <td>34.0</td>\n",
       "      <td>82.0</td>\n",
       "    </tr>\n",
       "  </tbody>\n",
       "</table>\n",
       "</div>"
      ],
      "text/plain": [
       "        0     1     2\n",
       "0   295.0  50.0   4.0\n",
       "1   405.0  45.0  77.0\n",
       "2   433.0   6.0   6.0\n",
       "3   426.0   4.0  12.0\n",
       "4   611.0  14.0   8.0\n",
       "5   600.0  14.0  31.0\n",
       "6   562.0   5.0  82.0\n",
       "7   354.0   6.0  69.0\n",
       "8   230.0  75.0  42.0\n",
       "9   842.0   3.0   6.0\n",
       "10  830.0   6.0  19.0\n",
       "11  235.0  38.0   8.0\n",
       "12  153.0  49.0  51.0\n",
       "13  854.0   6.0  13.0\n",
       "14  574.0  20.0  16.0\n",
       "15  630.0   3.0  59.0\n",
       "16  233.0  24.0   7.0\n",
       "17  883.0   6.0  36.0\n",
       "18  124.0  67.0  38.0\n",
       "19  306.0  57.0  17.0\n",
       "20  689.0  26.0   8.0\n",
       "21  288.0  34.0  82.0"
      ]
     },
     "execution_count": 17,
     "metadata": {},
     "output_type": "execute_result"
    }
   ],
   "source": [
    "sample(45,22, False, True, False)"
   ]
  },
  {
   "cell_type": "code",
   "execution_count": 21,
   "metadata": {},
   "outputs": [],
   "source": [
    "Sample1 = sample(50, 1555, animated1 = False, display1 = False, openmap = False)"
   ]
  },
  {
   "cell_type": "code",
   "execution_count": 24,
   "metadata": {},
   "outputs": [
    {
     "name": "stdout",
     "output_type": "stream",
     "text": [
      "AxesSubplot(0.125,0.125;0.775x0.755)\n"
     ]
    },
    {
     "data": {
      "image/png": "[encoded data removed]",
      "text/plain": [
       "<Figure size 432x288 with 1 Axes>"
      ]
     },
     "metadata": {
      "needs_background": "light"
     },
     "output_type": "display_data"
    }
   ],
   "source": [
    "print(sns.scatterplot(Sample1[0],Sample1[1]))\n",
    "# X = number of steps allowed, Y=distance from final state (agent1)"
   ]
  },
  {
   "cell_type": "code",
   "execution_count": 25,
   "metadata": {},
   "outputs": [
    {
     "data": {
      "text/plain": [
       "<matplotlib.axes._subplots.AxesSubplot at 0x1c8e0f1ad30>"
      ]
     },
     "execution_count": 25,
     "metadata": {},
     "output_type": "execute_result"
    },
    {
     "data": {
      "image/png": "[encoded data removed]",
      "text/plain": [
       "<Figure size 432x288 with 1 Axes>"
      ]
     },
     "metadata": {
      "needs_background": "light"
     },
     "output_type": "display_data"
    }
   ],
   "source": [
    "sns.scatterplot(Sample1[0],Sample1[2])\n",
    "# X = number of steps allowed, Y=distance from final state (agent2)"
   ]
  },
  {
   "cell_type": "code",
   "execution_count": 42,
   "metadata": {},
   "outputs": [],
   "source": [
    "# IDeja : odsjeci dataset da samo pokazuje ove nakon konvergencije, da se moze vizualizirati varijanca i uraditi statisticki test"
   ]
  },
  {
   "cell_type": "code",
   "execution_count": null,
   "metadata": {},
   "outputs": [],
   "source": []
  },
  {
   "cell_type": "code",
   "execution_count": null,
   "metadata": {},
   "outputs": [],
   "source": [
    "DQNAGENT"
   ]
  },
  {
   "cell_type": "code",
   "execution_count": null,
   "metadata": {},
   "outputs": [],
   "source": []
  },
  {
   "cell_type": "code",
   "execution_count": null,
   "metadata": {},
   "outputs": [],
   "source": []
  },
  {
   "cell_type": "code",
   "execution_count": 24,
   "metadata": {},
   "outputs": [],
   "source": []
  },
  {
   "cell_type": "code",
   "execution_count": null,
   "metadata": {},
   "outputs": [],
   "source": []
  },
  {
   "cell_type": "code",
   "execution_count": null,
   "metadata": {},
   "outputs": [],
   "source": []
  },
  {
   "cell_type": "code",
   "execution_count": 27,
   "metadata": {},
   "outputs": [
    {
     "data": {
      "text/plain": [
       "<matplotlib.axes._subplots.AxesSubplot at 0x1c8e0f09940>"
      ]
     },
     "execution_count": 27,
     "metadata": {},
     "output_type": "execute_result"
    },
    {
     "data": {
      "image/png": "[encoded data removed]",
      "text/plain": [
       "<Figure size 432x288 with 1 Axes>"
      ]
     },
     "metadata": {
      "needs_background": "light"
     },
     "output_type": "display_data"
    }
   ],
   "source": [
    "sns.distplot(Sample1[1])"
   ]
  },
  {
   "cell_type": "code",
   "execution_count": 28,
   "metadata": {},
   "outputs": [
    {
     "data": {
      "text/plain": [
       "<matplotlib.axes._subplots.AxesSubplot at 0x1c8e25d05c0>"
      ]
     },
     "execution_count": 28,
     "metadata": {},
     "output_type": "execute_result"
    },
    {
     "data": {
      "image/png": "[encoded data removed]",
      "text/plain": [
       "<Figure size 432x288 with 1 Axes>"
      ]
     },
     "metadata": {
      "needs_background": "light"
     },
     "output_type": "display_data"
    }
   ],
   "source": [
    "sns.distplot(Sample1[2])"
   ]
  },
  {
   "cell_type": "code",
   "execution_count": 29,
   "metadata": {},
   "outputs": [],
   "source": [
    "legit_steps1 = Sample1[0] < 220"
   ]
  },
  {
   "cell_type": "code",
   "execution_count": 30,
   "metadata": {},
   "outputs": [],
   "source": [
    "legit_steps2 = Sample1[0] > 200"
   ]
  },
  {
   "cell_type": "code",
   "execution_count": 31,
   "metadata": {},
   "outputs": [],
   "source": [
    "succesful = Sample1[2] < 10"
   ]
  },
  {
   "cell_type": "code",
   "execution_count": null,
   "metadata": {},
   "outputs": [],
   "source": []
  },
  {
   "cell_type": "code",
   "execution_count": null,
   "metadata": {},
   "outputs": [],
   "source": []
  },
  {
   "cell_type": "code",
   "execution_count": null,
   "metadata": {},
   "outputs": [],
   "source": []
  },
  {
   "cell_type": "code",
   "execution_count": 34,
   "metadata": {},
   "outputs": [
    {
     "data": {
      "text/html": [
       "<div>\n",
       "<style scoped>\n",
       "    .dataframe tbody tr th:only-of-type {\n",
       "        vertical-align: middle;\n",
       "    }\n",
       "\n",
       "    .dataframe tbody tr th {\n",
       "        vertical-align: top;\n",
       "    }\n",
       "\n",
       "    .dataframe thead th {\n",
       "        text-align: right;\n",
       "    }\n",
       "</style>\n",
       "<table border=\"1\" class=\"dataframe\">\n",
       "  <thead>\n",
       "    <tr style=\"text-align: right;\">\n",
       "      <th></th>\n",
       "      <th>0</th>\n",
       "      <th>1</th>\n",
       "      <th>2</th>\n",
       "    </tr>\n",
       "  </thead>\n",
       "  <tbody>\n",
       "    <tr>\n",
       "      <th>0</th>\n",
       "      <td>429.0</td>\n",
       "      <td>3.0</td>\n",
       "      <td>3.0</td>\n",
       "    </tr>\n",
       "    <tr>\n",
       "      <th>1</th>\n",
       "      <td>864.0</td>\n",
       "      <td>2.0</td>\n",
       "      <td>2.0</td>\n",
       "    </tr>\n",
       "    <tr>\n",
       "      <th>2</th>\n",
       "      <td>288.0</td>\n",
       "      <td>4.0</td>\n",
       "      <td>4.0</td>\n",
       "    </tr>\n",
       "    <tr>\n",
       "      <th>3</th>\n",
       "      <td>129.0</td>\n",
       "      <td>12.0</td>\n",
       "      <td>4.0</td>\n",
       "    </tr>\n",
       "    <tr>\n",
       "      <th>4</th>\n",
       "      <td>25.0</td>\n",
       "      <td>95.0</td>\n",
       "      <td>97.0</td>\n",
       "    </tr>\n",
       "    <tr>\n",
       "      <th>5</th>\n",
       "      <td>350.0</td>\n",
       "      <td>3.0</td>\n",
       "      <td>3.0</td>\n",
       "    </tr>\n",
       "    <tr>\n",
       "      <th>6</th>\n",
       "      <td>221.0</td>\n",
       "      <td>2.0</td>\n",
       "      <td>3.0</td>\n",
       "    </tr>\n",
       "    <tr>\n",
       "      <th>7</th>\n",
       "      <td>1097.0</td>\n",
       "      <td>3.0</td>\n",
       "      <td>3.0</td>\n",
       "    </tr>\n",
       "    <tr>\n",
       "      <th>8</th>\n",
       "      <td>640.0</td>\n",
       "      <td>4.0</td>\n",
       "      <td>2.0</td>\n",
       "    </tr>\n",
       "    <tr>\n",
       "      <th>9</th>\n",
       "      <td>579.0</td>\n",
       "      <td>4.0</td>\n",
       "      <td>2.0</td>\n",
       "    </tr>\n",
       "    <tr>\n",
       "      <th>10</th>\n",
       "      <td>863.0</td>\n",
       "      <td>3.0</td>\n",
       "      <td>2.0</td>\n",
       "    </tr>\n",
       "    <tr>\n",
       "      <th>11</th>\n",
       "      <td>175.0</td>\n",
       "      <td>4.0</td>\n",
       "      <td>3.0</td>\n",
       "    </tr>\n",
       "    <tr>\n",
       "      <th>12</th>\n",
       "      <td>794.0</td>\n",
       "      <td>6.0</td>\n",
       "      <td>2.0</td>\n",
       "    </tr>\n",
       "    <tr>\n",
       "      <th>13</th>\n",
       "      <td>940.0</td>\n",
       "      <td>3.0</td>\n",
       "      <td>3.0</td>\n",
       "    </tr>\n",
       "    <tr>\n",
       "      <th>14</th>\n",
       "      <td>874.0</td>\n",
       "      <td>3.0</td>\n",
       "      <td>3.0</td>\n",
       "    </tr>\n",
       "    <tr>\n",
       "      <th>15</th>\n",
       "      <td>894.0</td>\n",
       "      <td>2.0</td>\n",
       "      <td>3.0</td>\n",
       "    </tr>\n",
       "    <tr>\n",
       "      <th>16</th>\n",
       "      <td>292.0</td>\n",
       "      <td>2.0</td>\n",
       "      <td>3.0</td>\n",
       "    </tr>\n",
       "    <tr>\n",
       "      <th>17</th>\n",
       "      <td>838.0</td>\n",
       "      <td>4.0</td>\n",
       "      <td>4.0</td>\n",
       "    </tr>\n",
       "    <tr>\n",
       "      <th>18</th>\n",
       "      <td>1030.0</td>\n",
       "      <td>4.0</td>\n",
       "      <td>3.0</td>\n",
       "    </tr>\n",
       "    <tr>\n",
       "      <th>19</th>\n",
       "      <td>1061.0</td>\n",
       "      <td>3.0</td>\n",
       "      <td>2.0</td>\n",
       "    </tr>\n",
       "    <tr>\n",
       "      <th>20</th>\n",
       "      <td>1045.0</td>\n",
       "      <td>3.0</td>\n",
       "      <td>3.0</td>\n",
       "    </tr>\n",
       "    <tr>\n",
       "      <th>21</th>\n",
       "      <td>362.0</td>\n",
       "      <td>5.0</td>\n",
       "      <td>2.0</td>\n",
       "    </tr>\n",
       "    <tr>\n",
       "      <th>22</th>\n",
       "      <td>835.0</td>\n",
       "      <td>4.0</td>\n",
       "      <td>2.0</td>\n",
       "    </tr>\n",
       "    <tr>\n",
       "      <th>23</th>\n",
       "      <td>443.0</td>\n",
       "      <td>3.0</td>\n",
       "      <td>2.0</td>\n",
       "    </tr>\n",
       "    <tr>\n",
       "      <th>24</th>\n",
       "      <td>737.0</td>\n",
       "      <td>4.0</td>\n",
       "      <td>3.0</td>\n",
       "    </tr>\n",
       "    <tr>\n",
       "      <th>25</th>\n",
       "      <td>798.0</td>\n",
       "      <td>2.0</td>\n",
       "      <td>4.0</td>\n",
       "    </tr>\n",
       "    <tr>\n",
       "      <th>26</th>\n",
       "      <td>331.0</td>\n",
       "      <td>2.0</td>\n",
       "      <td>2.0</td>\n",
       "    </tr>\n",
       "    <tr>\n",
       "      <th>27</th>\n",
       "      <td>578.0</td>\n",
       "      <td>4.0</td>\n",
       "      <td>2.0</td>\n",
       "    </tr>\n",
       "    <tr>\n",
       "      <th>28</th>\n",
       "      <td>505.0</td>\n",
       "      <td>3.0</td>\n",
       "      <td>5.0</td>\n",
       "    </tr>\n",
       "    <tr>\n",
       "      <th>29</th>\n",
       "      <td>1082.0</td>\n",
       "      <td>3.0</td>\n",
       "      <td>3.0</td>\n",
       "    </tr>\n",
       "    <tr>\n",
       "      <th>...</th>\n",
       "      <td>...</td>\n",
       "      <td>...</td>\n",
       "      <td>...</td>\n",
       "    </tr>\n",
       "    <tr>\n",
       "      <th>1470</th>\n",
       "      <td>818.0</td>\n",
       "      <td>3.0</td>\n",
       "      <td>3.0</td>\n",
       "    </tr>\n",
       "    <tr>\n",
       "      <th>1471</th>\n",
       "      <td>585.0</td>\n",
       "      <td>3.0</td>\n",
       "      <td>3.0</td>\n",
       "    </tr>\n",
       "    <tr>\n",
       "      <th>1472</th>\n",
       "      <td>81.0</td>\n",
       "      <td>39.0</td>\n",
       "      <td>41.0</td>\n",
       "    </tr>\n",
       "    <tr>\n",
       "      <th>1473</th>\n",
       "      <td>139.0</td>\n",
       "      <td>3.0</td>\n",
       "      <td>5.0</td>\n",
       "    </tr>\n",
       "    <tr>\n",
       "      <th>1474</th>\n",
       "      <td>832.0</td>\n",
       "      <td>3.0</td>\n",
       "      <td>3.0</td>\n",
       "    </tr>\n",
       "    <tr>\n",
       "      <th>1475</th>\n",
       "      <td>855.0</td>\n",
       "      <td>3.0</td>\n",
       "      <td>3.0</td>\n",
       "    </tr>\n",
       "    <tr>\n",
       "      <th>1476</th>\n",
       "      <td>712.0</td>\n",
       "      <td>2.0</td>\n",
       "      <td>3.0</td>\n",
       "    </tr>\n",
       "    <tr>\n",
       "      <th>1477</th>\n",
       "      <td>157.0</td>\n",
       "      <td>2.0</td>\n",
       "      <td>2.0</td>\n",
       "    </tr>\n",
       "    <tr>\n",
       "      <th>1478</th>\n",
       "      <td>1001.0</td>\n",
       "      <td>5.0</td>\n",
       "      <td>3.0</td>\n",
       "    </tr>\n",
       "    <tr>\n",
       "      <th>1479</th>\n",
       "      <td>940.0</td>\n",
       "      <td>3.0</td>\n",
       "      <td>2.0</td>\n",
       "    </tr>\n",
       "    <tr>\n",
       "      <th>1480</th>\n",
       "      <td>746.0</td>\n",
       "      <td>4.0</td>\n",
       "      <td>4.0</td>\n",
       "    </tr>\n",
       "    <tr>\n",
       "      <th>1481</th>\n",
       "      <td>890.0</td>\n",
       "      <td>3.0</td>\n",
       "      <td>3.0</td>\n",
       "    </tr>\n",
       "    <tr>\n",
       "      <th>1482</th>\n",
       "      <td>316.0</td>\n",
       "      <td>4.0</td>\n",
       "      <td>3.0</td>\n",
       "    </tr>\n",
       "    <tr>\n",
       "      <th>1483</th>\n",
       "      <td>1066.0</td>\n",
       "      <td>2.0</td>\n",
       "      <td>4.0</td>\n",
       "    </tr>\n",
       "    <tr>\n",
       "      <th>1484</th>\n",
       "      <td>1011.0</td>\n",
       "      <td>5.0</td>\n",
       "      <td>3.0</td>\n",
       "    </tr>\n",
       "    <tr>\n",
       "      <th>1485</th>\n",
       "      <td>1034.0</td>\n",
       "      <td>2.0</td>\n",
       "      <td>2.0</td>\n",
       "    </tr>\n",
       "    <tr>\n",
       "      <th>1486</th>\n",
       "      <td>407.0</td>\n",
       "      <td>3.0</td>\n",
       "      <td>4.0</td>\n",
       "    </tr>\n",
       "    <tr>\n",
       "      <th>1487</th>\n",
       "      <td>885.0</td>\n",
       "      <td>3.0</td>\n",
       "      <td>3.0</td>\n",
       "    </tr>\n",
       "    <tr>\n",
       "      <th>1488</th>\n",
       "      <td>301.0</td>\n",
       "      <td>3.0</td>\n",
       "      <td>3.0</td>\n",
       "    </tr>\n",
       "    <tr>\n",
       "      <th>1489</th>\n",
       "      <td>827.0</td>\n",
       "      <td>5.0</td>\n",
       "      <td>2.0</td>\n",
       "    </tr>\n",
       "    <tr>\n",
       "      <th>1490</th>\n",
       "      <td>135.0</td>\n",
       "      <td>3.0</td>\n",
       "      <td>3.0</td>\n",
       "    </tr>\n",
       "    <tr>\n",
       "      <th>1491</th>\n",
       "      <td>107.0</td>\n",
       "      <td>13.0</td>\n",
       "      <td>15.0</td>\n",
       "    </tr>\n",
       "    <tr>\n",
       "      <th>1492</th>\n",
       "      <td>1018.0</td>\n",
       "      <td>3.0</td>\n",
       "      <td>4.0</td>\n",
       "    </tr>\n",
       "    <tr>\n",
       "      <th>1493</th>\n",
       "      <td>456.0</td>\n",
       "      <td>3.0</td>\n",
       "      <td>3.0</td>\n",
       "    </tr>\n",
       "    <tr>\n",
       "      <th>1494</th>\n",
       "      <td>626.0</td>\n",
       "      <td>4.0</td>\n",
       "      <td>3.0</td>\n",
       "    </tr>\n",
       "    <tr>\n",
       "      <th>1495</th>\n",
       "      <td>315.0</td>\n",
       "      <td>5.0</td>\n",
       "      <td>3.0</td>\n",
       "    </tr>\n",
       "    <tr>\n",
       "      <th>1496</th>\n",
       "      <td>297.0</td>\n",
       "      <td>3.0</td>\n",
       "      <td>3.0</td>\n",
       "    </tr>\n",
       "    <tr>\n",
       "      <th>1497</th>\n",
       "      <td>361.0</td>\n",
       "      <td>5.0</td>\n",
       "      <td>4.0</td>\n",
       "    </tr>\n",
       "    <tr>\n",
       "      <th>1498</th>\n",
       "      <td>1023.0</td>\n",
       "      <td>3.0</td>\n",
       "      <td>3.0</td>\n",
       "    </tr>\n",
       "    <tr>\n",
       "      <th>1499</th>\n",
       "      <td>884.0</td>\n",
       "      <td>3.0</td>\n",
       "      <td>2.0</td>\n",
       "    </tr>\n",
       "  </tbody>\n",
       "</table>\n",
       "<p>1500 rows × 3 columns</p>\n",
       "</div>"
      ],
      "text/plain": [
       "           0     1     2\n",
       "0      429.0   3.0   3.0\n",
       "1      864.0   2.0   2.0\n",
       "2      288.0   4.0   4.0\n",
       "3      129.0  12.0   4.0\n",
       "4       25.0  95.0  97.0\n",
       "5      350.0   3.0   3.0\n",
       "6      221.0   2.0   3.0\n",
       "7     1097.0   3.0   3.0\n",
       "8      640.0   4.0   2.0\n",
       "9      579.0   4.0   2.0\n",
       "10     863.0   3.0   2.0\n",
       "11     175.0   4.0   3.0\n",
       "12     794.0   6.0   2.0\n",
       "13     940.0   3.0   3.0\n",
       "14     874.0   3.0   3.0\n",
       "15     894.0   2.0   3.0\n",
       "16     292.0   2.0   3.0\n",
       "17     838.0   4.0   4.0\n",
       "18    1030.0   4.0   3.0\n",
       "19    1061.0   3.0   2.0\n",
       "20    1045.0   3.0   3.0\n",
       "21     362.0   5.0   2.0\n",
       "22     835.0   4.0   2.0\n",
       "23     443.0   3.0   2.0\n",
       "24     737.0   4.0   3.0\n",
       "25     798.0   2.0   4.0\n",
       "26     331.0   2.0   2.0\n",
       "27     578.0   4.0   2.0\n",
       "28     505.0   3.0   5.0\n",
       "29    1082.0   3.0   3.0\n",
       "...      ...   ...   ...\n",
       "1470   818.0   3.0   3.0\n",
       "1471   585.0   3.0   3.0\n",
       "1472    81.0  39.0  41.0\n",
       "1473   139.0   3.0   5.0\n",
       "1474   832.0   3.0   3.0\n",
       "1475   855.0   3.0   3.0\n",
       "1476   712.0   2.0   3.0\n",
       "1477   157.0   2.0   2.0\n",
       "1478  1001.0   5.0   3.0\n",
       "1479   940.0   3.0   2.0\n",
       "1480   746.0   4.0   4.0\n",
       "1481   890.0   3.0   3.0\n",
       "1482   316.0   4.0   3.0\n",
       "1483  1066.0   2.0   4.0\n",
       "1484  1011.0   5.0   3.0\n",
       "1485  1034.0   2.0   2.0\n",
       "1486   407.0   3.0   4.0\n",
       "1487   885.0   3.0   3.0\n",
       "1488   301.0   3.0   3.0\n",
       "1489   827.0   5.0   2.0\n",
       "1490   135.0   3.0   3.0\n",
       "1491   107.0  13.0  15.0\n",
       "1492  1018.0   3.0   4.0\n",
       "1493   456.0   3.0   3.0\n",
       "1494   626.0   4.0   3.0\n",
       "1495   315.0   5.0   3.0\n",
       "1496   297.0   3.0   3.0\n",
       "1497   361.0   5.0   4.0\n",
       "1498  1023.0   3.0   3.0\n",
       "1499   884.0   3.0   2.0\n",
       "\n",
       "[1500 rows x 3 columns]"
      ]
     },
     "execution_count": 34,
     "metadata": {},
     "output_type": "execute_result"
    }
   ],
   "source": [
    "Sample1"
   ]
  },
  {
   "cell_type": "code",
   "execution_count": 36,
   "metadata": {},
   "outputs": [
    {
     "data": {
      "text/plain": [
       "28.60906298003072"
      ]
     },
     "execution_count": 36,
     "metadata": {},
     "output_type": "execute_result"
    }
   ],
   "source": [
    "np.mean(Sample1[legit_steps2][1])"
   ]
  },
  {
   "cell_type": "code",
   "execution_count": 37,
   "metadata": {},
   "outputs": [
    {
     "data": {
      "text/plain": [
       "24.24641833810888"
      ]
     },
     "execution_count": 37,
     "metadata": {},
     "output_type": "execute_result"
    }
   ],
   "source": [
    "np.mean(Sample1[succesful][1])"
   ]
  },
  {
   "cell_type": "code",
   "execution_count": null,
   "metadata": {},
   "outputs": [],
   "source": []
  },
  {
   "cell_type": "code",
   "execution_count": null,
   "metadata": {},
   "outputs": [],
   "source": []
  },
  {
   "cell_type": "code",
   "execution_count": null,
   "metadata": {},
   "outputs": [],
   "source": []
  },
  {
   "cell_type": "code",
   "execution_count": null,
   "metadata": {},
   "outputs": [],
   "source": []
  },
  {
   "cell_type": "code",
   "execution_count": null,
   "metadata": {},
   "outputs": [],
   "source": []
  },
  {
   "cell_type": "code",
   "execution_count": null,
   "metadata": {},
   "outputs": [],
   "source": []
  },
  {
   "cell_type": "code",
   "execution_count": null,
   "metadata": {},
   "outputs": [],
   "source": []
  },
  {
   "cell_type": "code",
   "execution_count": null,
   "metadata": {},
   "outputs": [],
   "source": []
  },
  {
   "cell_type": "code",
   "execution_count": null,
   "metadata": {},
   "outputs": [],
   "source": []
  },
  {
   "cell_type": "code",
   "execution_count": null,
   "metadata": {},
   "outputs": [],
   "source": []
  },
  {
   "cell_type": "code",
   "execution_count": null,
   "metadata": {},
   "outputs": [],
   "source": []
  },
  {
   "cell_type": "code",
   "execution_count": null,
   "metadata": {},
   "outputs": [],
   "source": []
  },
  {
   "cell_type": "code",
   "execution_count": null,
   "metadata": {},
   "outputs": [],
   "source": []
  },
  {
   "cell_type": "code",
   "execution_count": null,
   "metadata": {},
   "outputs": [],
   "source": []
  }
 ],
 "metadata": {
  "kernelspec": {
   "display_name": "Python 3",
   "language": "python",
   "name": "python3"
  },
  "language_info": {
   "codemirror_mode": {
    "name": "ipython",
    "version": 3
   },
   "file_extension": ".py",
   "mimetype": "text/x-python",
   "name": "python",
   "nbconvert_exporter": "python",
   "pygments_lexer": "ipython3",
   "version": "3.8.3"
  }
 },
 "nbformat": 4,
 "nbformat_minor": 2
}
